{
 "cells": [
  {
   "cell_type": "code",
   "execution_count": 2,
   "metadata": {},
   "outputs": [
    {
     "data": {
      "text/plain": [
       "Float64"
      ]
     },
     "execution_count": 2,
     "metadata": {},
     "output_type": "execute_result"
    }
   ],
   "source": [
    "typeof(1+3+5.)"
   ]
  },
  {
   "cell_type": "code",
   "execution_count": null,
   "metadata": {},
   "outputs": [],
   "source": [
    "println(\"αβγ⋄♢∑€£€\")"
   ]
  },
  {
   "cell_type": "code",
   "execution_count": 28,
   "metadata": {},
   "outputs": [
    {
     "data": {
      "text/plain": [
       "2×3 Array{Integer,2}:\n",
       " #undef  #undef  #undef\n",
       " #undef  #undef  #undef"
      ]
     },
     "execution_count": 28,
     "metadata": {},
     "output_type": "execute_result"
    }
   ],
   "source": [
    "abstypevariable = Array{Integer,2}(undef, 2,3)\n"
   ]
  },
  {
   "cell_type": "code",
   "execution_count": 29,
   "metadata": {},
   "outputs": [
    {
     "data": {
      "text/plain": [
       "Array{Integer,2}"
      ]
     },
     "execution_count": 29,
     "metadata": {},
     "output_type": "execute_result"
    }
   ],
   "source": [
    "typeof(abstypevariable)"
   ]
  },
  {
   "cell_type": "code",
   "execution_count": 9,
   "metadata": {},
   "outputs": [
    {
     "ename": "UndefRefError",
     "evalue": "UndefRefError: access to undefined reference",
     "output_type": "error",
     "traceback": [
      "UndefRefError: access to undefined reference",
      "",
      "Stacktrace:",
      " [1] getindex(::Array{Integer,2}, ::Int64, ::Int64) at .\\array.jl:745",
      " [2] top-level scope at In[9]:1"
     ]
    }
   ],
   "source": [
    "abstypevariable"
   ]
  },
  {
   "cell_type": "code",
   "execution_count": 13,
   "metadata": {},
   "outputs": [
    {
     "data": {
      "text/plain": [
       "7.0"
      ]
     },
     "execution_count": 13,
     "metadata": {},
     "output_type": "execute_result"
    }
   ],
   "source": [
    "abstypevariable[2,2] = 7.0"
   ]
  },
  {
   "cell_type": "code",
   "execution_count": 14,
   "metadata": {},
   "outputs": [
    {
     "data": {
      "text/plain": [
       "2×3 Array{Integer,2}:\n",
       " #undef  #undef  #undef\n",
       " #undef    7     #undef"
      ]
     },
     "execution_count": 14,
     "metadata": {},
     "output_type": "execute_result"
    }
   ],
   "source": [
    "abstypevariable"
   ]
  },
  {
   "cell_type": "code",
   "execution_count": 15,
   "metadata": {},
   "outputs": [
    {
     "data": {
      "text/plain": [
       "2×3 Array{Int64,2}:\n",
       " 1  1  1\n",
       " 1  0  0"
      ]
     },
     "execution_count": 15,
     "metadata": {},
     "output_type": "execute_result"
    }
   ],
   "source": [
    "arbconcretevariable = Array{Int64}(undef, 2,3)"
   ]
  },
  {
   "cell_type": "code",
   "execution_count": 1,
   "metadata": {},
   "outputs": [
    {
     "name": "stdout",
     "output_type": "stream",
     "text": [
      "search: \u001b[0m\u001b[1mf\u001b[22m\u001b[0m\u001b[1ml\u001b[22m\u001b[0m\u001b[1mo\u001b[22m\u001b[0m\u001b[1mo\u001b[22m\u001b[0m\u001b[1mr\u001b[22m Over\u001b[0m\u001b[1mf\u001b[22m\u001b[0m\u001b[1ml\u001b[22m\u001b[0m\u001b[1mo\u001b[22mwErr\u001b[0m\u001b[1mo\u001b[22m\u001b[0m\u001b[1mr\u001b[22m StackOver\u001b[0m\u001b[1mf\u001b[22m\u001b[0m\u001b[1ml\u001b[22m\u001b[0m\u001b[1mo\u001b[22mwErr\u001b[0m\u001b[1mo\u001b[22m\u001b[0m\u001b[1mr\u001b[22m\n",
      "\n"
     ]
    },
    {
     "data": {
      "text/latex": [
       "\\begin{verbatim}\n",
       "floor([T,] x)\n",
       "floor(x; digits::Integer= [, base = 10])\n",
       "floor(x; sigdigits::Integer= [, base = 10])\n",
       "\\end{verbatim}\n",
       "\\texttt{floor(x)} returns the nearest integral value of the same type as \\texttt{x} that is less than or equal to \\texttt{x}.\n",
       "\n",
       "\\texttt{floor(T, x)} converts the result to type \\texttt{T}, throwing an \\texttt{InexactError} if the value is not representable.\n",
       "\n",
       "\\texttt{digits}, \\texttt{sigdigits} and \\texttt{base} work as for \\href{@ref}{\\texttt{round}}.\n",
       "\n",
       "\\rule{\\textwidth}{1pt}\n",
       "\\begin{verbatim}\n",
       "floor(x::Period, precision::T) where T <: Union{TimePeriod, Week, Day} -> T\n",
       "\\end{verbatim}\n",
       "Round \\texttt{x} down to the nearest multiple of \\texttt{precision}. If \\texttt{x} and \\texttt{precision} are different subtypes of \\texttt{Period}, the return value will have the same type as \\texttt{precision}.\n",
       "\n",
       "For convenience, \\texttt{precision} may be a type instead of a value: \\texttt{floor(x, Dates.Hour)} is a shortcut for \\texttt{floor(x, Dates.Hour(1))}.\n",
       "\n",
       "\\begin{verbatim}\n",
       "julia> floor(Dates.Day(16), Dates.Week)\n",
       "2 weeks\n",
       "\n",
       "julia> floor(Dates.Minute(44), Dates.Minute(15))\n",
       "30 minutes\n",
       "\n",
       "julia> floor(Dates.Hour(36), Dates.Day)\n",
       "1 day\n",
       "\\end{verbatim}\n",
       "Rounding to a \\texttt{precision} of \\texttt{Month}s or \\texttt{Year}s is not supported, as these \\texttt{Period}s are of inconsistent length.\n",
       "\n",
       "\\rule{\\textwidth}{1pt}\n",
       "\\begin{verbatim}\n",
       "floor(dt::TimeType, p::Period) -> TimeType\n",
       "\\end{verbatim}\n",
       "Return the nearest \\texttt{Date} or \\texttt{DateTime} less than or equal to \\texttt{dt} at resolution \\texttt{p}.\n",
       "\n",
       "For convenience, \\texttt{p} may be a type instead of a value: \\texttt{floor(dt, Dates.Hour)} is a shortcut for \\texttt{floor(dt, Dates.Hour(1))}.\n",
       "\n",
       "\\begin{verbatim}\n",
       "julia> floor(Date(1985, 8, 16), Dates.Month)\n",
       "1985-08-01\n",
       "\n",
       "julia> floor(DateTime(2013, 2, 13, 0, 31, 20), Dates.Minute(15))\n",
       "2013-02-13T00:30:00\n",
       "\n",
       "julia> floor(DateTime(2016, 8, 6, 12, 0, 0), Dates.Day)\n",
       "2016-08-06T00:00:00\n",
       "\\end{verbatim}\n"
      ],
      "text/markdown": [
       "```\n",
       "floor([T,] x)\n",
       "floor(x; digits::Integer= [, base = 10])\n",
       "floor(x; sigdigits::Integer= [, base = 10])\n",
       "```\n",
       "\n",
       "`floor(x)` returns the nearest integral value of the same type as `x` that is less than or equal to `x`.\n",
       "\n",
       "`floor(T, x)` converts the result to type `T`, throwing an `InexactError` if the value is not representable.\n",
       "\n",
       "`digits`, `sigdigits` and `base` work as for [`round`](@ref).\n",
       "\n",
       "---\n",
       "\n",
       "```\n",
       "floor(x::Period, precision::T) where T <: Union{TimePeriod, Week, Day} -> T\n",
       "```\n",
       "\n",
       "Round `x` down to the nearest multiple of `precision`. If `x` and `precision` are different subtypes of `Period`, the return value will have the same type as `precision`.\n",
       "\n",
       "For convenience, `precision` may be a type instead of a value: `floor(x, Dates.Hour)` is a shortcut for `floor(x, Dates.Hour(1))`.\n",
       "\n",
       "```jldoctest\n",
       "julia> floor(Dates.Day(16), Dates.Week)\n",
       "2 weeks\n",
       "\n",
       "julia> floor(Dates.Minute(44), Dates.Minute(15))\n",
       "30 minutes\n",
       "\n",
       "julia> floor(Dates.Hour(36), Dates.Day)\n",
       "1 day\n",
       "```\n",
       "\n",
       "Rounding to a `precision` of `Month`s or `Year`s is not supported, as these `Period`s are of inconsistent length.\n",
       "\n",
       "---\n",
       "\n",
       "```\n",
       "floor(dt::TimeType, p::Period) -> TimeType\n",
       "```\n",
       "\n",
       "Return the nearest `Date` or `DateTime` less than or equal to `dt` at resolution `p`.\n",
       "\n",
       "For convenience, `p` may be a type instead of a value: `floor(dt, Dates.Hour)` is a shortcut for `floor(dt, Dates.Hour(1))`.\n",
       "\n",
       "```jldoctest\n",
       "julia> floor(Date(1985, 8, 16), Dates.Month)\n",
       "1985-08-01\n",
       "\n",
       "julia> floor(DateTime(2013, 2, 13, 0, 31, 20), Dates.Minute(15))\n",
       "2013-02-13T00:30:00\n",
       "\n",
       "julia> floor(DateTime(2016, 8, 6, 12, 0, 0), Dates.Day)\n",
       "2016-08-06T00:00:00\n",
       "```\n"
      ],
      "text/plain": [
       "\u001b[36m  floor([T,] x)\u001b[39m\n",
       "\u001b[36m  floor(x; digits::Integer= [, base = 10])\u001b[39m\n",
       "\u001b[36m  floor(x; sigdigits::Integer= [, base = 10])\u001b[39m\n",
       "\n",
       "  \u001b[36mfloor(x)\u001b[39m returns the nearest integral value of the same type as \u001b[36mx\u001b[39m that is\n",
       "  less than or equal to \u001b[36mx\u001b[39m.\n",
       "\n",
       "  \u001b[36mfloor(T, x)\u001b[39m converts the result to type \u001b[36mT\u001b[39m, throwing an \u001b[36mInexactError\u001b[39m if the\n",
       "  value is not representable.\n",
       "\n",
       "  \u001b[36mdigits\u001b[39m, \u001b[36msigdigits\u001b[39m and \u001b[36mbase\u001b[39m work as for \u001b[36mround\u001b[39m.\n",
       "\n",
       "  ────────────────────────────────────────────────────────────────────────────\n",
       "\n",
       "\u001b[36m  floor(x::Period, precision::T) where T <: Union{TimePeriod, Week, Day} -> T\u001b[39m\n",
       "\n",
       "  Round \u001b[36mx\u001b[39m down to the nearest multiple of \u001b[36mprecision\u001b[39m. If \u001b[36mx\u001b[39m and \u001b[36mprecision\u001b[39m are\n",
       "  different subtypes of \u001b[36mPeriod\u001b[39m, the return value will have the same type as\n",
       "  \u001b[36mprecision\u001b[39m.\n",
       "\n",
       "  For convenience, \u001b[36mprecision\u001b[39m may be a type instead of a value: \u001b[36mfloor(x,\n",
       "  Dates.Hour)\u001b[39m is a shortcut for \u001b[36mfloor(x, Dates.Hour(1))\u001b[39m.\n",
       "\n",
       "\u001b[36m  julia> floor(Dates.Day(16), Dates.Week)\u001b[39m\n",
       "\u001b[36m  2 weeks\u001b[39m\n",
       "\u001b[36m  \u001b[39m\n",
       "\u001b[36m  julia> floor(Dates.Minute(44), Dates.Minute(15))\u001b[39m\n",
       "\u001b[36m  30 minutes\u001b[39m\n",
       "\u001b[36m  \u001b[39m\n",
       "\u001b[36m  julia> floor(Dates.Hour(36), Dates.Day)\u001b[39m\n",
       "\u001b[36m  1 day\u001b[39m\n",
       "\n",
       "  Rounding to a \u001b[36mprecision\u001b[39m of \u001b[36mMonth\u001b[39ms or \u001b[36mYear\u001b[39ms is not supported, as these\n",
       "  \u001b[36mPeriod\u001b[39ms are of inconsistent length.\n",
       "\n",
       "  ────────────────────────────────────────────────────────────────────────────\n",
       "\n",
       "\u001b[36m  floor(dt::TimeType, p::Period) -> TimeType\u001b[39m\n",
       "\n",
       "  Return the nearest \u001b[36mDate\u001b[39m or \u001b[36mDateTime\u001b[39m less than or equal to \u001b[36mdt\u001b[39m at resolution\n",
       "  \u001b[36mp\u001b[39m.\n",
       "\n",
       "  For convenience, \u001b[36mp\u001b[39m may be a type instead of a value: \u001b[36mfloor(dt, Dates.Hour)\u001b[39m\n",
       "  is a shortcut for \u001b[36mfloor(dt, Dates.Hour(1))\u001b[39m.\n",
       "\n",
       "\u001b[36m  julia> floor(Date(1985, 8, 16), Dates.Month)\u001b[39m\n",
       "\u001b[36m  1985-08-01\u001b[39m\n",
       "\u001b[36m  \u001b[39m\n",
       "\u001b[36m  julia> floor(DateTime(2013, 2, 13, 0, 31, 20), Dates.Minute(15))\u001b[39m\n",
       "\u001b[36m  2013-02-13T00:30:00\u001b[39m\n",
       "\u001b[36m  \u001b[39m\n",
       "\u001b[36m  julia> floor(DateTime(2016, 8, 6, 12, 0, 0), Dates.Day)\u001b[39m\n",
       "\u001b[36m  2016-08-06T00:00:00\u001b[39m"
      ]
     },
     "execution_count": 1,
     "metadata": {},
     "output_type": "execute_result"
    }
   ],
   "source": [
    "? floor #question mark gives help"
   ]
  },
  {
   "cell_type": "code",
   "execution_count": 6,
   "metadata": {},
   "outputs": [
    {
     "ename": "LoadError",
     "evalue": "syntax: invalid identifier name \"?\"",
     "output_type": "error",
     "traceback": [
      "syntax: invalid identifier name \"?\"",
      ""
     ]
    }
   ],
   "source": [
    "# type letter and press tab to see all the functions (currently available)\n"
   ]
  },
  {
   "cell_type": "code",
   "execution_count": 8,
   "metadata": {},
   "outputs": [
    {
     "name": "stdout",
     "output_type": "stream",
     "text": [
      "search: \u001b[0m\u001b[1mm\u001b[22m\u001b[0m\u001b[1mu\u001b[22m\u001b[0m\u001b[1ml\u001b[22m\u001b[0m\u001b[1ma\u001b[22m\u001b[0m\u001b[1md\u001b[22m\u001b[0m\u001b[1md\u001b[22m\n",
      "\n"
     ]
    },
    {
     "data": {
      "text/latex": [
       "\\begin{verbatim}\n",
       "muladd(x, y, z)\n",
       "\\end{verbatim}\n",
       "Combined multiply-add: computes \\texttt{x*y+z}, but allowing the add and multiply to be merged with each other or with surrounding operations for performance. For example, this may be implemented as an \\href{@ref}{\\texttt{fma}} if the hardware supports it efficiently. The result can be different on different machines and can also be different on the same machine due to constant propagation or other optimizations. See \\href{@ref}{\\texttt{fma}}.\n",
       "\n",
       "\\section{Examples}\n",
       "\\begin{verbatim}\n",
       "julia> muladd(3, 2, 1)\n",
       "7\n",
       "\n",
       "julia> 3 * 2 + 1\n",
       "7\n",
       "\\end{verbatim}\n"
      ],
      "text/markdown": [
       "```\n",
       "muladd(x, y, z)\n",
       "```\n",
       "\n",
       "Combined multiply-add: computes `x*y+z`, but allowing the add and multiply to be merged with each other or with surrounding operations for performance. For example, this may be implemented as an [`fma`](@ref) if the hardware supports it efficiently. The result can be different on different machines and can also be different on the same machine due to constant propagation or other optimizations. See [`fma`](@ref).\n",
       "\n",
       "# Examples\n",
       "\n",
       "```jldoctest\n",
       "julia> muladd(3, 2, 1)\n",
       "7\n",
       "\n",
       "julia> 3 * 2 + 1\n",
       "7\n",
       "```\n"
      ],
      "text/plain": [
       "\u001b[36m  muladd(x, y, z)\u001b[39m\n",
       "\n",
       "  Combined multiply-add: computes \u001b[36mx*y+z\u001b[39m, but allowing the add and multiply to\n",
       "  be merged with each other or with surrounding operations for performance.\n",
       "  For example, this may be implemented as an \u001b[36mfma\u001b[39m if the hardware supports it\n",
       "  efficiently. The result can be different on different machines and can also\n",
       "  be different on the same machine due to constant propagation or other\n",
       "  optimizations. See \u001b[36mfma\u001b[39m.\n",
       "\n",
       "\u001b[1m  Examples\u001b[22m\n",
       "\u001b[1m  ≡≡≡≡≡≡≡≡≡≡\u001b[22m\n",
       "\n",
       "\u001b[36m  julia> muladd(3, 2, 1)\u001b[39m\n",
       "\u001b[36m  7\u001b[39m\n",
       "\u001b[36m  \u001b[39m\n",
       "\u001b[36m  julia> 3 * 2 + 1\u001b[39m\n",
       "\u001b[36m  7\u001b[39m"
      ]
     },
     "execution_count": 8,
     "metadata": {},
     "output_type": "execute_result"
    }
   ],
   "source": [
    "? muladd"
   ]
  },
  {
   "cell_type": "markdown",
   "metadata": {},
   "source": [
    "### Functions"
   ]
  },
  {
   "cell_type": "code",
   "execution_count": 10,
   "metadata": {},
   "outputs": [
    {
     "data": {
      "text/plain": [
       "6664.62"
      ]
     },
     "execution_count": 10,
     "metadata": {},
     "output_type": "execute_result"
    }
   ],
   "source": [
    "myfunc(firstvar) = 20*firstvar\n",
    "myfunc(333.231)"
   ]
  },
  {
   "cell_type": "code",
   "execution_count": 13,
   "metadata": {},
   "outputs": [
    {
     "name": "stdout",
     "output_type": "stream",
     "text": [
      "40\n",
      "function finished\n"
     ]
    }
   ],
   "source": [
    "function myfunc2(var1)\n",
    "    println(var1*2)\n",
    "    println(\"function finished\")\n",
    "end\n",
    "\n",
    "x = myfunc2(20)"
   ]
  },
  {
   "cell_type": "code",
   "execution_count": 15,
   "metadata": {},
   "outputs": [
    {
     "data": {
      "text/plain": [
       "0.6666666666666666"
      ]
     },
     "execution_count": 15,
     "metadata": {},
     "output_type": "execute_result"
    }
   ],
   "source": [
    "30 \\ 20\n"
   ]
  },
  {
   "cell_type": "code",
   "execution_count": 16,
   "metadata": {},
   "outputs": [
    {
     "data": {
      "text/plain": [
       "8"
      ]
     },
     "execution_count": 16,
     "metadata": {},
     "output_type": "execute_result"
    }
   ],
   "source": [
    "funcy(x) = return x\n",
    "funcy(8)"
   ]
  }
 ],
 "metadata": {
  "kernelspec": {
   "display_name": "Julia 1.3.1",
   "language": "julia",
   "name": "julia-1.3"
  },
  "language_info": {
   "file_extension": ".jl",
   "mimetype": "application/julia",
   "name": "julia",
   "version": "1.3.1"
  }
 },
 "nbformat": 4,
 "nbformat_minor": 2
}
