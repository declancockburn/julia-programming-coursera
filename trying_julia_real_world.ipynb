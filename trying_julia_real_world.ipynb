{
 "cells": [
  {
   "cell_type": "code",
   "execution_count": 4,
   "metadata": {},
   "outputs": [
    {
     "data": {
      "text/plain": [
       "\"C:\\\\Users\\\\dcockbur\\\\Documents\\\\Python\\\\PyCharm_Projects\\\\Learning\\\\Julia\""
      ]
     },
     "execution_count": 4,
     "metadata": {},
     "output_type": "execute_result"
    }
   ],
   "source": [
    "pwd()"
   ]
  },
  {
   "cell_type": "raw",
   "metadata": {},
   "source": []
  },
  {
   "cell_type": "code",
   "execution_count": 25,
   "metadata": {},
   "outputs": [
    {
     "data": {
      "text/plain": [
       "\"C:\\\\Users\\\\dcockbur\\\\Documents\\\\Python\\\\PyCharm_Projects\\\\Learning\\\\Julia\\\\test2\""
      ]
     },
     "execution_count": 25,
     "metadata": {},
     "output_type": "execute_result"
    }
   ],
   "source": [
    "# path = \"C:/Users/dcockbur/Desktop/Metrology/heating_cooling_simulation_python/MDL_TPT_read_project/data/20191202-140328-7Ls11.mdl.gzd\"\n",
    "using Tar\n",
    "path = \"C:\\\\Users\\\\dcockbur\\\\Documents\\\\Python\\\\PyCharm_Projects\\\\Learning\\\\Julia\\\\test_in\"\n",
    "path2 = \"C:\\\\Users\\\\dcockbur\\\\Documents\\\\Python\\\\PyCharm_Projects\\\\Learning\\\\Julia\\\\test2\"\n",
    "tarball = Tar.create(path, path2)\n",
    "\n",
    "#using Tar\n",
    "#Tar.extract(tarball, path)\n"
   ]
  },
  {
   "cell_type": "code",
   "execution_count": 29,
   "metadata": {},
   "outputs": [
    {
     "ename": "SystemError",
     "evalue": "SystemError: opening file \"MC_snapshot.2019_08_25.10:30:59\": Invalid argument",
     "output_type": "error",
     "traceback": [
      "SystemError: opening file \"MC_snapshot.2019_08_25.10:30:59\": Invalid argument",
      "",
      "Stacktrace:",
      " [1] #systemerror#44(::Nothing, ::typeof(systemerror), ::String, ::Bool) at .\\error.jl:134",
      " [2] systemerror at .\\error.jl:134 [inlined]",
      " [3] #open#512(::Nothing, ::Bool, ::Nothing, ::Nothing, ::Nothing, ::typeof(open), ::String) at .\\iostream.jl:254",
      " [4] #open at .\\none:0 [inlined]",
      " [5] #open#271(::Base.Iterators.Pairs{Symbol,Bool,Tuple{Symbol},NamedTuple{(:write,),Tuple{Bool}}}, ::typeof(open), ::Tar.var\"#24#25\"{Int64,Array{UInt8,1},IOStream}, ::String) at .\\io.jl:296",
      " [6] #extract_tarball#17(::Array{UInt8,1}, ::typeof(Tar.extract_tarball), ::IOStream, ::String) at .\\none:0",
      " [7] #extract_tarball at .\\none:0 [inlined]",
      " [8] #15 at C:\\Users\\dcockbur\\.julia\\packages\\Tar\\1jrj7\\src\\extract.jl:27 [inlined]",
      " [9] #open#271(::Base.Iterators.Pairs{Union{},Union{},Tuple{},NamedTuple{(),Tuple{}}}, ::typeof(open), ::Tar.var\"#15#16\"{Array{UInt8,1},String}, ::String) at .\\io.jl:298",
      " [10] open at .\\io.jl:296 [inlined]",
      " [11] #extract_tarball#14 at C:\\Users\\dcockbur\\.julia\\packages\\Tar\\1jrj7\\src\\extract.jl:26 [inlined]",
      " [12] extract_tarball at C:\\Users\\dcockbur\\.julia\\packages\\Tar\\1jrj7\\src\\extract.jl:26 [inlined]",
      " [13] extract_cleanup(::String, ::String) at C:\\Users\\dcockbur\\.julia\\packages\\Tar\\1jrj7\\src\\Tar.jl:127",
      " [14] extract(::String, ::String) at C:\\Users\\dcockbur\\.julia\\packages\\Tar\\1jrj7\\src\\Tar.jl:114",
      " [15] top-level scope at In[29]:4"
     ]
    }
   ],
   "source": [
    "tarball = \"C:\\\\Users\\\\dcockbur\\\\Desktop\\\\Metrology\\\\heating_cooling_simulation_python\\\\MDL_TPT_read_project\\\\data\\\\mFU00_191202_143449_fat_atptput.throughput_fingerprint.tar\"\n",
    "path2 = \"C:\\\\Users\\\\dcockbur\\\\Documents\\\\Python\\\\PyCharm_Projects\\\\Learning\\\\Julia\\\\test2\"\n",
    "using Tar\n",
    "Tar.extract(tarball, path2)"
   ]
  },
  {
   "cell_type": "code",
   "execution_count": null,
   "metadata": {},
   "outputs": [],
   "source": []
  },
  {
   "cell_type": "code",
   "execution_count": null,
   "metadata": {},
   "outputs": [],
   "source": []
  },
  {
   "cell_type": "code",
   "execution_count": null,
   "metadata": {},
   "outputs": [],
   "source": []
  },
  {
   "cell_type": "code",
   "execution_count": null,
   "metadata": {},
   "outputs": [],
   "source": []
  },
  {
   "cell_type": "code",
   "execution_count": null,
   "metadata": {},
   "outputs": [],
   "source": []
  },
  {
   "cell_type": "code",
   "execution_count": null,
   "metadata": {},
   "outputs": [],
   "source": []
  },
  {
   "cell_type": "code",
   "execution_count": 2,
   "metadata": {
    "scrolled": true
   },
   "outputs": [
    {
     "name": "stdout",
     "output_type": "stream",
     "text": [
      "4\n"
     ]
    }
   ],
   "source": [
    "println(\"$(2*2)\")"
   ]
  },
  {
   "cell_type": "code",
   "execution_count": 4,
   "metadata": {},
   "outputs": [
    {
     "data": {
      "text/plain": [
       "2×5 Array{Int64,2}:\n",
       " 0  0  0  0  0\n",
       " 0  0  0  0  0"
      ]
     },
     "execution_count": 4,
     "metadata": {},
     "output_type": "execute_result"
    }
   ],
   "source": [
    "Array{Int,2}(undef, 2, 5)"
   ]
  },
  {
   "cell_type": "code",
   "execution_count": 21,
   "metadata": {},
   "outputs": [
    {
     "ename": "BoundsError",
     "evalue": "BoundsError: attempt to access 3×2 Array{Int64,2} at index [Base.Slice(Base.OneTo(3)), 0]",
     "output_type": "error",
     "traceback": [
      "BoundsError: attempt to access 3×2 Array{Int64,2} at index [Base.Slice(Base.OneTo(3)), 0]",
      "",
      "Stacktrace:",
      " [1] throw_boundserror(::Array{Int64,2}, ::Tuple{Base.Slice{Base.OneTo{Int64}},Int64}) at .\\abstractarray.jl:538",
      " [2] checkbounds at .\\abstractarray.jl:503 [inlined]",
      " [3] _getindex at .\\multidimensional.jl:669 [inlined]",
      " [4] getindex(::Array{Int64,2}, ::Function, ::Int64) at .\\abstractarray.jl:981",
      " [5] top-level scope at In[21]:4"
     ]
    }
   ],
   "source": [
    "data = [1 2;\n",
    "        3 4;\n",
    "        5 6]\n",
    "data[:,0]"
   ]
  },
  {
   "cell_type": "code",
   "execution_count": 23,
   "metadata": {},
   "outputs": [
    {
     "data": {
      "text/plain": [
       "true"
      ]
     },
     "execution_count": 23,
     "metadata": {},
     "output_type": "execute_result"
    }
   ],
   "source": [
    "x = 1\n",
    "x == 1"
   ]
  },
  {
   "cell_type": "code",
   "execution_count": 24,
   "metadata": {},
   "outputs": [
    {
     "data": {
      "text/plain": [
       "true"
      ]
     },
     "execution_count": 24,
     "metadata": {},
     "output_type": "execute_result"
    }
   ],
   "source": [
    "x === 1"
   ]
  },
  {
   "cell_type": "code",
   "execution_count": 26,
   "metadata": {},
   "outputs": [
    {
     "data": {
      "text/plain": [
       "true"
      ]
     },
     "execution_count": 26,
     "metadata": {},
     "output_type": "execute_result"
    }
   ],
   "source": [
    "y = 2\n",
    "x == 1 && y == 2"
   ]
  },
  {
   "cell_type": "code",
   "execution_count": 27,
   "metadata": {},
   "outputs": [
    {
     "data": {
      "text/plain": [
       "false"
      ]
     },
     "execution_count": 27,
     "metadata": {},
     "output_type": "execute_result"
    }
   ],
   "source": [
    "x == 1 & y == 2"
   ]
  }
 ],
 "metadata": {
  "kernelspec": {
   "display_name": "Julia 1.3.1",
   "language": "julia",
   "name": "julia-1.3"
  },
  "language_info": {
   "file_extension": ".jl",
   "mimetype": "application/julia",
   "name": "julia",
   "version": "1.3.1"
  }
 },
 "nbformat": 4,
 "nbformat_minor": 2
}
