{
 "cells": [
  {
   "cell_type": "code",
   "execution_count": 4,
   "metadata": {},
   "outputs": [
    {
     "data": {
      "text/plain": [
       "\"C:\\\\Users\\\\dcockbur\\\\Documents\\\\Python\\\\PyCharm_Projects\\\\Learning\\\\Julia\""
      ]
     },
     "execution_count": 4,
     "metadata": {},
     "output_type": "execute_result"
    }
   ],
   "source": [
    "pwd()"
   ]
  },
  {
   "cell_type": "raw",
   "metadata": {},
   "source": []
  },
  {
   "cell_type": "code",
   "execution_count": 3,
   "metadata": {},
   "outputs": [
    {
     "ename": "ErrorException",
     "evalue": "not a directory: /test2\nUSAGE: create([predicate,] dir, [tarball])",
     "output_type": "error",
     "traceback": [
      "not a directory: /test2\nUSAGE: create([predicate,] dir, [tarball])",
      "",
      "Stacktrace:",
      " [1] error(::String) at .\\error.jl:33",
      " [2] create_dir_check at C:\\Users\\dcockbur\\.julia\\packages\\Tar\\1jrj7\\src\\Tar.jl:136 [inlined]",
      " [3] create(::Function, ::String) at C:\\Users\\dcockbur\\.julia\\packages\\Tar\\1jrj7\\src\\Tar.jl:52",
      " [4] create(::String) at C:\\Users\\dcockbur\\.julia\\packages\\Tar\\1jrj7\\src\\Tar.jl:66",
      " [5] top-level scope at In[3]:4"
     ]
    }
   ],
   "source": [
    "# path = \"C:/Users/dcockbur/Desktop/Metrology/heating_cooling_simulation_python/MDL_TPT_read_project/data/20191202-140328-7Ls11.mdl.gzd\"\n",
    "using Tar\n",
    "path = \"\\\\test2\"\n",
    "tarball = Tar.create(path)\n",
    "Tar.extract(tarball, path) -> \"/test\"\n"
   ]
  },
  {
   "cell_type": "code",
   "execution_count": null,
   "metadata": {},
   "outputs": [],
   "source": []
  },
  {
   "cell_type": "code",
   "execution_count": null,
   "metadata": {},
   "outputs": [],
   "source": []
  },
  {
   "cell_type": "code",
   "execution_count": null,
   "metadata": {},
   "outputs": [],
   "source": []
  },
  {
   "cell_type": "code",
   "execution_count": null,
   "metadata": {},
   "outputs": [],
   "source": []
  },
  {
   "cell_type": "code",
   "execution_count": null,
   "metadata": {},
   "outputs": [],
   "source": []
  },
  {
   "cell_type": "code",
   "execution_count": null,
   "metadata": {},
   "outputs": [],
   "source": []
  },
  {
   "cell_type": "code",
   "execution_count": null,
   "metadata": {},
   "outputs": [],
   "source": []
  },
  {
   "cell_type": "code",
   "execution_count": 2,
   "metadata": {},
   "outputs": [
    {
     "name": "stdout",
     "output_type": "stream",
     "text": [
      "4\n"
     ]
    }
   ],
   "source": [
    "println(\"$(2*2)\")"
   ]
  },
  {
   "cell_type": "code",
   "execution_count": 4,
   "metadata": {},
   "outputs": [
    {
     "data": {
      "text/plain": [
       "2×5 Array{Int64,2}:\n",
       " 0  0  0  0  0\n",
       " 0  0  0  0  0"
      ]
     },
     "execution_count": 4,
     "metadata": {},
     "output_type": "execute_result"
    }
   ],
   "source": [
    "Array{Int,2}(undef, 2, 5)"
   ]
  },
  {
   "cell_type": "code",
   "execution_count": 21,
   "metadata": {},
   "outputs": [
    {
     "ename": "BoundsError",
     "evalue": "BoundsError: attempt to access 3×2 Array{Int64,2} at index [Base.Slice(Base.OneTo(3)), 0]",
     "output_type": "error",
     "traceback": [
      "BoundsError: attempt to access 3×2 Array{Int64,2} at index [Base.Slice(Base.OneTo(3)), 0]",
      "",
      "Stacktrace:",
      " [1] throw_boundserror(::Array{Int64,2}, ::Tuple{Base.Slice{Base.OneTo{Int64}},Int64}) at .\\abstractarray.jl:538",
      " [2] checkbounds at .\\abstractarray.jl:503 [inlined]",
      " [3] _getindex at .\\multidimensional.jl:669 [inlined]",
      " [4] getindex(::Array{Int64,2}, ::Function, ::Int64) at .\\abstractarray.jl:981",
      " [5] top-level scope at In[21]:4"
     ]
    }
   ],
   "source": [
    "data = [1 2;\n",
    "        3 4;\n",
    "        5 6]\n",
    "data[:,0]"
   ]
  },
  {
   "cell_type": "code",
   "execution_count": 23,
   "metadata": {},
   "outputs": [
    {
     "data": {
      "text/plain": [
       "true"
      ]
     },
     "execution_count": 23,
     "metadata": {},
     "output_type": "execute_result"
    }
   ],
   "source": [
    "x = 1\n",
    "x == 1"
   ]
  },
  {
   "cell_type": "code",
   "execution_count": 24,
   "metadata": {},
   "outputs": [
    {
     "data": {
      "text/plain": [
       "true"
      ]
     },
     "execution_count": 24,
     "metadata": {},
     "output_type": "execute_result"
    }
   ],
   "source": [
    "x === 1"
   ]
  },
  {
   "cell_type": "code",
   "execution_count": 26,
   "metadata": {},
   "outputs": [
    {
     "data": {
      "text/plain": [
       "true"
      ]
     },
     "execution_count": 26,
     "metadata": {},
     "output_type": "execute_result"
    }
   ],
   "source": [
    "y = 2\n",
    "x == 1 && y == 2"
   ]
  },
  {
   "cell_type": "code",
   "execution_count": 27,
   "metadata": {},
   "outputs": [
    {
     "data": {
      "text/plain": [
       "false"
      ]
     },
     "execution_count": 27,
     "metadata": {},
     "output_type": "execute_result"
    }
   ],
   "source": [
    "x == 1 & y == 2"
   ]
  }
 ],
 "metadata": {
  "kernelspec": {
   "display_name": "Julia 1.3.1",
   "language": "julia",
   "name": "julia-1.3"
  },
  "language_info": {
   "file_extension": ".jl",
   "mimetype": "application/julia",
   "name": "julia",
   "version": "1.3.1"
  }
 },
 "nbformat": 4,
 "nbformat_minor": 2
}
